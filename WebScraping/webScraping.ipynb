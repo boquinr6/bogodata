{
 "cells": [
  {
   "cell_type": "code",
   "execution_count": 9,
   "metadata": {},
   "outputs": [],
   "source": [
    "from bs4 import BeautifulSoup\n",
    "import requests\n",
    "import pandas as pd \n",
    "\n",
    "url = \"http://www.akc.org/content/news/articles/most-popular-dog-breeds-full-ranking-list/?button\"\n",
    "r = requests.get(url)\n",
    "data = r.text\n",
    "soup = BeautifulSoup(data, 'html5lib')\n",
    "\n",
    "\n",
    "table = soup.find_all('table')[0]\n",
    "rows = table.find_all('tr')[1:]\n",
    "\n",
    "data = {\n",
    "    'breeds' : [],\n",
    "    'rank2016' : [],\n",
    "    'rank2015' : [],\n",
    "    'rank2014' : [],\n",
    "    'rank2013' : []\n",
    "}\n",
    "\n",
    "for row in rows:\n",
    "    cols = row.find_all('td')\n",
    "    data['breeds'].append( cols[0].get_text() )\n",
    "    data['rank2016'].append( cols[1].get_text() )\n",
    "    data['rank2015'].append( cols[2].get_text() )\n",
    "    data['rank2014'].append( cols[3].get_text() )\n",
    "    data['rank2013'].append( cols[4].get_text() )\n",
    "\n",
    "\n",
    "dogData = pd.DataFrame( data )\n",
    "dogData\n",
    "\n",
    "dogData.to_csv('path', header=True, index=False, encoding='utf-8')"
   ]
  }
 ],
 "metadata": {
  "kernelspec": {
   "display_name": "Python 2",
   "language": "python",
   "name": "python2"
  },
  "language_info": {
   "codemirror_mode": {
    "name": "ipython",
    "version": 2
   },
   "file_extension": ".py",
   "mimetype": "text/x-python",
   "name": "python",
   "nbconvert_exporter": "python",
   "pygments_lexer": "ipython2",
   "version": "2.7.13"
  }
 },
 "nbformat": 4,
 "nbformat_minor": 2
}
