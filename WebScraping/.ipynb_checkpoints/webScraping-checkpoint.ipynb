{
 "cells": [
  {
   "cell_type": "markdown",
   "metadata": {},
   "source": [
    "# Web Scraping Tutorial"
   ]
  },
  {
   "cell_type": "markdown",
   "metadata": {},
   "source": [
    "Primero vamos a importar nuestras librarias"
   ]
  },
  {
   "cell_type": "code",
   "execution_count": 9,
   "metadata": {
    "collapsed": true
   },
   "outputs": [],
   "source": [
    "from bs4 import BeautifulSoup\n",
    "import requests\n",
    "import pandas as pd "
   ]
  },
  {
   "cell_type": "markdown",
   "metadata": {},
   "source": [
    "Despues vamos a llamar al internet con un URL y guardar la respuestas en variables. Nota que BeautifulSoup convierta la data en una idioma que Python puede leer."
   ]
  },
  {
   "cell_type": "code",
   "execution_count": 10,
   "metadata": {
    "collapsed": true
   },
   "outputs": [],
   "source": [
    "url = \"http://www.akc.org/content/news/articles/most-popular-dog-breeds-full-ranking-list/?button\"\n",
    "r = requests.get(url)\n",
    "data = r.text\n",
    "soup = BeautifulSoup(data, 'html5lib')"
   ]
  },
  {
   "cell_type": "markdown",
   "metadata": {},
   "source": [
    "Ahora podemos desaramar la mesa de HTML. Primero usamos el funcion \"find_all\" para cojere la mesa. Usamos el tag 'table' porque asi se llama en HTML. Lo mismo hacemos on las filas. \n",
    "\n",
    "Nota que estamso usando los indices para accesar la lista. [0] para la mesa pare cojere la PRIMER mesa.\n",
    "[1:] representa la segunda fila hasta la ultima fila."
   ]
  },
  {
   "cell_type": "code",
   "execution_count": 11,
   "metadata": {},
   "outputs": [],
   "source": [
    "table = soup.find_all('table')[0]\n",
    "\n",
    "#print table\n"
   ]
  },
  {
   "cell_type": "code",
   "execution_count": 12,
   "metadata": {},
   "outputs": [],
   "source": [
    "rows = table.find_all('tr')[1:]\n",
    "\n",
    "#print rows"
   ]
  },
  {
   "cell_type": "markdown",
   "metadata": {},
   "source": [
    "Ahora podemos construir nuestro CSV Spreadsheet!\n",
    "Vamos a empezar construindo un Python structure que se llama un \"dicionario\". \n",
    "Un dicionario es una lista de llave-valor pares. En nuestro dicionario, la llave es el titulo del columno. El valor es la lista de todas las filas. \n",
    "\n",
    "Para construir nuestro diccionario, usamos {}, y ponemos los titulos de abajo."
   ]
  },
  {
   "cell_type": "code",
   "execution_count": 13,
   "metadata": {},
   "outputs": [],
   "source": [
    "data = {\n",
    "    'breeds' : [],\n",
    "    'rank2016' : [],\n",
    "    'rank2015' : [],\n",
    "    'rank2014' : [],\n",
    "    'rank2013' : []\n",
    "}\n",
    "#print data"
   ]
  },
  {
   "cell_type": "markdown",
   "metadata": {},
   "source": [
    "Ahora vamos a poner la informacion de toda la mesa adentro de nuestro diccionario.\n",
    "Para ser eso, tenemos que usar un \"FOR LOOP\". Vamos a LOOP todas las filas y poner la infomracion de ese fila y ponerlo en la llave del diccionario que correspande. \n",
    "\n",
    "Para cojer los columnos, usamos el nombre de HTML 'td'.\n",
    "Para agregar a cada columno, accesamos por el diccionario. "
   ]
  },
  {
   "cell_type": "code",
   "execution_count": 14,
   "metadata": {},
   "outputs": [],
   "source": [
    "for row in rows:\n",
    "    cols = row.find_all('td')\n",
    "    data['breeds'].append( cols[0].get_text() )\n",
    "    data['rank2016'].append( cols[1].get_text() )\n",
    "    data['rank2015'].append( cols[2].get_text() )\n",
    "    data['rank2014'].append( cols[3].get_text() )\n",
    "    data['rank2013'].append( cols[4].get_text() )\n",
    "#print data"
   ]
  },
  {
   "cell_type": "markdown",
   "metadata": {},
   "source": []
  },
  {
   "cell_type": "code",
   "execution_count": 15,
   "metadata": {},
   "outputs": [
    {
     "name": "stdout",
     "output_type": "stream",
     "text": [
      "                             breeds rank2013 rank2014 rank2015 rank2016\n",
      "0             Retrievers (Labrador)        1        1        1        1\n",
      "1              German Shepherd Dogs        2        2        2        2\n",
      "2               Retrievers (Golden)        3        3        3        3\n",
      "3                          Bulldogs        5        4        4        4\n",
      "4                           Beagles        4        5        5        5\n",
      "5                   French Bulldogs       11        9        6        6\n",
      "6                           Poodles        8        7        8        7\n",
      "7                       Rottweilers        9       10        9        8\n",
      "8                Yorkshire Terriers        6        6        7        9\n",
      "9                            Boxers        7        8       10       10\n",
      "10    Pointers (German Shorthaired)       13       12       11       11\n",
      "11                 Siberian Huskies       14       13       12       12\n",
      "12                       Dachshunds       10       11       13       13\n",
      "13                      Great Danes       16       15       15       14\n",
      "14               Doberman Pinschers       12       14       14       15\n",
      "15             Australian Shepherds       20       18       17       16\n",
      "16             Miniature Schnauzers       17       16       16       17\n",
      "17            Pembroke Welsh Corgis       24       22       20       18\n",
      "18   Cavalier King Charles Spaniels       18       19       18       19\n",
      "19                         Shih Tzu       15       17       19       20\n",
      "20                  Boston Terriers       23       23       22       21\n",
      "21                      Pomeranians       19       20       21       22\n",
      "22                         Havanese       25       25       24       23\n",
      "23               Shetland Sheepdogs       21       21       23       24\n",
      "24                        Brittanys       30       27       26       25\n",
      "25      Spaniels (English Springer)       28       28       27       26\n",
      "26            Bernese Mountain Dogs       32       32       29       27\n",
      "27                         Mastiffs       26       26       25       28\n",
      "28                Spaniels (Cocker)       29       30       30       29\n",
      "29                       Chihuahuas       22       24       28       30\n",
      "..                              ...      ...      ...      ...      ...\n",
      "159     Portuguese Podengo Pequenos      153      166      153      160\n",
      "160       Entlebucher Mountain Dogs      155      153      159      161\n",
      "161              Spanish Water Dogs               113      167      162\n",
      "162               Swedish Vallhunds      147      158      155      163\n",
      "163       Retrievers (Curly-Coated)      163      163      151      164\n",
      "164                        Kuvaszok      150      161      150      165\n",
      "165                     Otterhounds      172      179      180      166\n",
      "166         Dandie Dinmont Terriers      168      167      172      167\n",
      "167                  Pharaoh Hounds      160      164      171      168\n",
      "168        Polish Lowland Sheepdogs      157      170      164      169\n",
      "169     American English Coonhounds      146      156      166      170\n",
      "170                         Lowchen      154      165      161      171\n",
      "171               Spaniels (Sussex)      162      175      173      172\n",
      "172               Finnish Lapphunds      171      173      169      173\n",
      "173               Norwegian Buhunds      166      172      165      174\n",
      "174                        Chinooks      156      171      177      175\n",
      "175              Pyrenean Shepherds      169      178      176      176\n",
      "176                      Komondorok      159      168      163      177\n",
      "177                   Skye Terriers      161      177      175      178\n",
      "178                   Finnish Spitz      170      174      178      179\n",
      "179          Glen of Imaal Terriers      167      162      168      180\n",
      "180                     Canaan Dogs      164      176      170      181\n",
      "181                  Cesky Terriers      174      182      179      182\n",
      "182              Cirnechi dell'Etna               117      162      183\n",
      "183                      Bergamasco                96      174      184\n",
      "184                        Sloughis                                 185\n",
      "185                        Harriers      173      181      183      186\n",
      "186               English Foxhounds      177      183      184      187\n",
      "187            Norwegian Lundehunds      175      184      182      188\n",
      "188              American Foxhounds      176      180      181      189\n",
      "\n",
      "[189 rows x 5 columns]\n"
     ]
    }
   ],
   "source": [
    "dogData = pd.DataFrame( data )\n",
    "\n",
    "print dogData"
   ]
  },
  {
   "cell_type": "markdown",
   "metadata": {},
   "source": [
    "Finalmente ponemos todo en un CSV. tenemos que pasar parametros para codicar las letras sin u' code. \n",
    "Aqui tambien ponemos el nombre del csv. "
   ]
  },
  {
   "cell_type": "code",
   "execution_count": 16,
   "metadata": {
    "collapsed": true
   },
   "outputs": [],
   "source": [
    "\n",
    "\n",
    "\n",
    "\n",
    "\n",
    "\n",
    "\n",
    "\n",
    "\n",
    "dogData.to_csv('path.csv', header=True, index=False, encoding='utf-8')"
   ]
  }
 ],
 "metadata": {
  "kernelspec": {
   "display_name": "Python 2",
   "language": "python",
   "name": "python2"
  },
  "language_info": {
   "codemirror_mode": {
    "name": "ipython",
    "version": 2
   },
   "file_extension": ".py",
   "mimetype": "text/x-python",
   "name": "python",
   "nbconvert_exporter": "python",
   "pygments_lexer": "ipython2",
   "version": "2.7.13"
  }
 },
 "nbformat": 4,
 "nbformat_minor": 2
}
